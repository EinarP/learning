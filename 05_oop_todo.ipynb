{
  "nbformat": 4,
  "nbformat_minor": 0,
  "metadata": {
    "colab": {
      "provenance": [],
      "authorship_tag": "ABX9TyNckrgzPgZc3hY+1/vYtuFw",
      "include_colab_link": true
    },
    "kernelspec": {
      "name": "python3",
      "display_name": "Python 3"
    },
    "language_info": {
      "name": "python"
    }
  },
  "cells": [
    {
      "cell_type": "markdown",
      "metadata": {
        "id": "view-in-github",
        "colab_type": "text"
      },
      "source": [
        "<a href=\"https://colab.research.google.com/github/EinarP/learning/blob/master/05_oop_todo.ipynb\" target=\"_parent\"><img src=\"https://colab.research.google.com/assets/colab-badge.svg\" alt=\"Open In Colab\"/></a>"
      ]
    },
    {
      "cell_type": "markdown",
      "source": [
        "# Object-Oriented Programming in Python\n",
        "This notebook covers everything you need to know about object-oriented programming (OOP) in Python. Read it carefully and write your code and explanations in places marked with TODO tags"
      ],
      "metadata": {
        "id": "oSbF63VbM9Dm"
      }
    },
    {
      "cell_type": "markdown",
      "source": [
        "## Classes and objects\n",
        "Software-intense systems can pretty easily become difficult to understand and master. OOP is one of the most well-known methods for tackling such complexity. It makes the code more reusable and working with larger programs easier. A definition from the authoritative source:\n",
        "\n",
        "> OOP is a style of programming characterized by the identification of classes of objects closely linked with the methods (functions) with which they are associated<br>\n",
        "> [ https://www.gartner.com/en/information-technology/glossary/oop-object-oriented-programming ]\n",
        "\n",
        "Python supports OOP. Data of all types are objects in Python. Objects themselves are instances of classes\n",
        "\n",
        "### Creating classes and objects\n",
        "This is an example of defining classes and creating objects based on them:"
      ],
      "metadata": {
        "id": "BYBOVUngBr0G"
      }
    },
    {
      "cell_type": "code",
      "source": [
        "# Create a new class which does nothing\n",
        "class my_type:\n",
        "  pass\n",
        "\n",
        "# Create an object of this class\n",
        "my_object = my_type()\n",
        "\n",
        "# TODO: Print out the type of the object created\n"
      ],
      "metadata": {
        "id": "BNYyrR5wj2-Z"
      },
      "execution_count": null,
      "outputs": []
    },
    {
      "cell_type": "markdown",
      "source": [
        "### Built-in data types\n",
        "Built-in data types (strings, integers, lists, etc.) are implemented as classes of objects in Python as well:"
      ],
      "metadata": {
        "id": "mtldlQKzvub6"
      }
    },
    {
      "cell_type": "code",
      "source": [
        "# TODO: Create an object my_str of built-in string class/type str\n",
        "my_str = \n",
        "\n",
        "# TODO: Print out the type of the object created\n"
      ],
      "metadata": {
        "id": "7eG8jsTRlDG1"
      },
      "execution_count": null,
      "outputs": []
    },
    {
      "cell_type": "code",
      "source": [
        "# TODO: Create a dictionary type of object with few elements and check its type\n"
      ],
      "metadata": {
        "id": "MLmAGTMsTmul"
      },
      "execution_count": null,
      "outputs": []
    },
    {
      "cell_type": "code",
      "source": [
        "# TODO: Check the type of an element of the newly created dictionary\n"
      ],
      "metadata": {
        "id": "fPcxV8Kzw2LU"
      },
      "execution_count": null,
      "outputs": []
    },
    {
      "cell_type": "markdown",
      "source": [
        "## Encapsulation\n",
        "Encapsulation refers to the binding of data and functions into a single unit. This can prevent unwanted access to sensitive data while also reducing effects of erroneous human changes.\n",
        "\n",
        "A class binds the functionality and behavior into a single unit and represents it as objects. An object is a group of interrelated variables and functions. These variables are often referred to as attributes (aka properties) of the object and functions (aka methods) are referred to as the behavior of the objects.\n",
        "\n",
        "### Attributes and methods of built-in data types\n",
        "We usually interact with object through methods:"
      ],
      "metadata": {
        "id": "N85EpKM8rVzs"
      }
    },
    {
      "cell_type": "code",
      "execution_count": null,
      "metadata": {
        "id": "mKg_W1j8k-jx",
        "colab": {
          "base_uri": "https://localhost:8080/"
        },
        "outputId": "8acc4a83-46cf-473c-fbf5-1ac9f4516679"
      },
      "outputs": [
        {
          "output_type": "stream",
          "name": "stdout",
          "text": [
            "String in uppercase!\n"
          ]
        }
      ],
      "source": [
        "# Use a built-in method for converting a string to uppercase\n",
        "my_str = my_str.upper()\n",
        "\n",
        "# TODO: Use a built-in method to check if the last string is in uppercase\n",
        "is_my_str_upper = my_str.\n",
        "\n",
        "if is_my_str_upper:\n",
        "  print('String in uppercase!')"
      ]
    },
    {
      "cell_type": "markdown",
      "source": [
        "We might be able to check or change the  attributes directly as well:"
      ],
      "metadata": {
        "id": "ib79qmutaqr_"
      }
    },
    {
      "cell_type": "code",
      "source": [
        "# Check a value of built-in property\n",
        "print(my_str.__doc__)"
      ],
      "metadata": {
        "id": "904s4Jj6B-CE",
        "colab": {
          "base_uri": "https://localhost:8080/"
        },
        "outputId": "61b7d3b7-4806-4eae-858f-5b1998c5347f"
      },
      "execution_count": null,
      "outputs": [
        {
          "output_type": "stream",
          "name": "stdout",
          "text": [
            "str(object='') -> str\n",
            "str(bytes_or_buffer[, encoding[, errors]]) -> str\n",
            "\n",
            "Create a new string object from the given object. If encoding or\n",
            "errors is specified, then the object must expose a data buffer\n",
            "that will be decoded using the given encoding and error handler.\n",
            "Otherwise, returns the result of object.__str__() (if defined)\n",
            "or repr(object).\n",
            "encoding defaults to sys.getdefaultencoding().\n",
            "errors defaults to 'strict'.\n"
          ]
        }
      ]
    },
    {
      "cell_type": "markdown",
      "source": [
        "### Defining attributes and methods\n",
        "Below example, we define a class called *Animal*.\n",
        "\n",
        "The class has an *\\__init__* method (aka constructor) for assigning the values to the attributes of the class when an object of the class is created, i.e. to *name* and *sound* attributes.\n",
        "\n",
        "We also define a *speak* method that prints out the name and sound of the animal. And attribute *kind*, which will be common to all object of this class, unless changed specifically.\n",
        "\n",
        "Finally, we will create two instances of the *Animal* with their respective names and sounds:\n"
      ],
      "metadata": {
        "id": "biOKCLJeCOp0"
      }
    },
    {
      "cell_type": "code",
      "source": [
        "# Define a class called \"Animal\"\n",
        "class Animal:\n",
        "  \n",
        "    # Initialize the object with a name and sound attribute\n",
        "    def __init__(self, name, sound):\n",
        "        self.name = name\n",
        "        self.sound = sound\n",
        "    \n",
        "    # Variable common to all objects\n",
        "    kind = \"mammal\"\n",
        "    \n",
        "    # Define a method that prints the animal's name and sound\n",
        "    def speak(self):\n",
        "        print(f\"{self.name} says {self.sound}!\")\n",
        " \n",
        "# Create objects (instances) of the Animal class\n",
        "cat = Animal(\"Furry\", \"meow\")\n",
        "crow = Animal(name = \"Wizard\", sound = \"kraa\")"
      ],
      "metadata": {
        "id": "PJiSep7SCaOa"
      },
      "execution_count": null,
      "outputs": []
    },
    {
      "cell_type": "code",
      "source": [
        "# TODO: Call the \"speak\" method on the \"cat\" object\n"
      ],
      "metadata": {
        "id": "0-gAQXGG4x5j"
      },
      "execution_count": null,
      "outputs": []
    },
    {
      "cell_type": "code",
      "source": [
        "# TODO: Display animal's name\n"
      ],
      "metadata": {
        "id": "JhNS97YnCeIE"
      },
      "execution_count": null,
      "outputs": []
    },
    {
      "cell_type": "code",
      "source": [
        "# Animal default kind attributes\n",
        "print(\"Cat before:\", cat.kind, \"\\nCrow before:\", crow.kind)\n",
        "\n",
        "# Correct crow's kind\n",
        "crow.kind = \"bird\"\n",
        "print(\"\\nCrow after change:\", crow.kind)\n",
        "\n",
        "# TODO: Verify that cat is still a mammal\n"
      ],
      "metadata": {
        "id": "sI206_Olu_oA"
      },
      "execution_count": null,
      "outputs": []
    },
    {
      "cell_type": "markdown",
      "source": [
        "\n",
        "\n",
        "## Inheritance\n",
        "Inheritance refers to the capability of a class to derive or extend the properties from another class.\n",
        "\n",
        "Below example, we then define *Cat* class, which inherits from the *Animal* class using the syntax *class Cat(Animal)*. The *Cat* class overrides the *sound* attribute with a default value of \"meow\". We do not need to override the name attribute or *\\__init__* method, as they are inherited from the *Animal* class.\n",
        "\n",
        "We then create an instance of the *Cat* class called *my_cat* and assign it a name of \"Kitty\". When we call the *speak* method on the *my_cat* object, it will print out \"Kitty says meow!\", as specified by the *Cat* class's sound attribute:\n"
      ],
      "metadata": {
        "id": "HUVu7h4RTPyh"
      }
    },
    {
      "cell_type": "code",
      "source": [
        "class Cat(Animal):\n",
        "    \n",
        "    # Add new method\n",
        "    def purr(self):\n",
        "      print(f\"{self.name} is purring now, do not disturb!\")\n",
        " \n",
        "# Create an instance of the Cat class called and let her speak\n",
        "cat2 = Cat(\"Kitty\", \"meow\")\n",
        "cat2.speak()\n",
        "\n",
        "# Create one more instance of the Cat class called and let him purr\n",
        "cat3 = Cat(\"Käpik\", \"hiss\")\n",
        "cat3.purr()"
      ],
      "metadata": {
        "id": "eDuhbRrm62ZE"
      },
      "execution_count": null,
      "outputs": []
    },
    {
      "cell_type": "markdown",
      "source": [
        "Let's explore methods and attributes of the objects created before. First create a function *mydir* which lists custom (not starting with underscore symbol) methods and attributes only. Then apply it to different classes of objects:\n"
      ],
      "metadata": {
        "id": "silB2rmvZm0N"
      }
    },
    {
      "cell_type": "code",
      "source": [
        "# TODO: Create a function to display custom attributes/methods only (no __ prefix)\n",
        "def mydir(obj):\n",
        "\n",
        "\n",
        "# Apply the function\n",
        "mydir(cat3)"
      ],
      "metadata": {
        "id": "ZXW_nQtK_ZMM"
      },
      "execution_count": null,
      "outputs": []
    },
    {
      "cell_type": "code",
      "source": [
        "# Display methods and attributes of crow object using your function\n",
        "mydir(crow)"
      ],
      "metadata": {
        "id": "RZT5OddFUOwn"
      },
      "execution_count": null,
      "outputs": []
    },
    {
      "cell_type": "code",
      "source": [
        "# TODO: Display all methods and attributes of an object of Cat class\n"
      ],
      "metadata": {
        "id": "T_clrDN5VyK_"
      },
      "execution_count": null,
      "outputs": []
    },
    {
      "cell_type": "markdown",
      "source": [
        "*TODO: Explain the difference between objects of Animal and Cat classes here*\n",
        "\n"
      ],
      "metadata": {
        "id": "FLiwSPkQg_B_"
      }
    },
    {
      "cell_type": "markdown",
      "source": [
        "\n",
        "## Polymorphism\n",
        "Polymorphism is the ability of objects to take on multiple forms, depending on the context in which they are used.\n",
        "\n",
        "Below example, we define two subclasses of *Animal* which provide conrecte implementation of the *speak* method that returns a string representing the sound the animal makes:\n",
        "\n",
        "\n"
      ],
      "metadata": {
        "id": "9jS6FyPOaM5k"
      }
    },
    {
      "cell_type": "code",
      "source": [
        "# Default implementation of the speak method\n",
        "class Animal:\n",
        "    def speak(self):\n",
        "        pass\n",
        "\n",
        "# Classes corresponding to different animals\n",
        "class Cat(Animal):\n",
        "    def speak(self):\n",
        "        return \"Meow\"\n",
        "\n",
        "class Dog(Animal):\n",
        "    def speak(self):\n",
        "        return \"Woof\"\n",
        "\n",
        "# A function to make different animals speak\n",
        "def animal_speak(a):\n",
        "    print(a.speak())\n",
        "\n",
        "# TODO: Create objects of Cat and Dog class\n",
        "\n",
        "\n",
        "# TODO: Let both animals to speak using animal_speak function\n",
        "\n"
      ],
      "metadata": {
        "id": "90E4JyLi_3PT"
      },
      "execution_count": null,
      "outputs": []
    },
    {
      "cell_type": "markdown",
      "source": [
        "## Abstraction\n",
        "Abstraction is used to hide internal details and display the necessary functionalities. Abstraction means displaying the content in such a manner that only the essential functions get displayed to the user according to the privileges and the rest of the internal working stays hidden.\n",
        "\n",
        "Special *abc* module has been created to bring this to a higher level, by implementing so called abstract classes. Its usage is out of scope for this notebook\n",
        "\n",
        "## Conclusion\n",
        "There are many principles related to OOP. We covered here the essentials and most common principles: encapsulation, abstraction, inheritance, and polymorphism. For detailed explanations consult https://www.askpython.com/python/oops/object-oriented-programming-python.\n",
        "\n",
        "Learning to apply OOP principles in sofware development can take years. A good next step would be to learn about [design patterns](https://en.wikipedia.org/wiki/Software_design_pattern). And of course, practice makes mastery.\n",
        "\n",
        "*TODO: Please describe here in few words how well do you believe yourself to understand OOP with Python*\n",
        "\n"
      ],
      "metadata": {
        "id": "tucHp-wdhc1C"
      }
    }
  ]
}